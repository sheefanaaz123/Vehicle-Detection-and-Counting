{
 "cells": [
  {
   "cell_type": "code",
   "execution_count": 85,
   "id": "e8d8b316",
   "metadata": {},
   "outputs": [],
   "source": [
    "import cv2\n",
    "import numpy as np\n",
    " "
   ]
  },
  {
   "cell_type": "code",
   "execution_count": 86,
   "id": "bbd2a749",
   "metadata": {},
   "outputs": [],
   "source": [
    "min_contour_width = 40  \n",
    "min_contour_height = 40  \n",
    "offset = 10  \n",
    "line_height = 550  \n",
    "matches = []\n",
    "vehicles = 0\n"
   ]
  },
  {
   "cell_type": "code",
   "execution_count": 87,
   "id": "317c4ead",
   "metadata": {},
   "outputs": [],
   "source": [
    "def get_centrolid(x, y, w, h):\n",
    "   x1 = int(w / 2)\n",
    "   y1 = int(h / 2)\n",
    " \n",
    "   cx = x + x1\n",
    "   cy = y + y1\n",
    "   return cx, cy"
   ]
  },
  {
   "cell_type": "code",
   "execution_count": 88,
   "id": "fdc969f8",
   "metadata": {},
   "outputs": [],
   "source": [
    "cap = cv2.VideoCapture('Video.mp4')"
   ]
  },
  {
   "cell_type": "code",
   "execution_count": 89,
   "id": "48e7d031",
   "metadata": {},
   "outputs": [],
   "source": [
    "cap.set(3, 1920)\n",
    "cap.set(4, 1080)\n",
    " \n",
    "if cap.isOpened():\n",
    "   ret, frame1 = cap.read()\n",
    "else:\n",
    "   ret = False\n",
    "ret, frame1 = cap.read()\n",
    "ret, frame2 = cap.read()"
   ]
  },
  {
   "cell_type": "code",
   "execution_count": 90,
   "id": "78b16fec",
   "metadata": {},
   "outputs": [],
   "source": [
    "while ret:\n",
    "   d = cv2.absdiff(frame1, frame2)\n",
    "   grey = cv2.cvtColor(d, cv2.COLOR_BGR2GRAY)\n",
    " \n",
    "   blur = cv2.GaussianBlur(grey, (5, 5), 0)\n",
    " \n",
    "   ret, th = cv2.threshold(blur, 20, 255, cv2.THRESH_BINARY)\n",
    "   dilated = cv2.dilate(th, np.ones((3, 3)))\n",
    "   kernel = cv2.getStructuringElement(cv2.MORPH_ELLIPSE, (2, 2))\n",
    " \n",
    "  \n",
    "   closing = cv2.morphologyEx(dilated, cv2.MORPH_CLOSE, kernel)\n",
    "   contours, h = cv2.findContours(\n",
    "       closing, cv2.RETR_TREE, cv2.CHAIN_APPROX_SIMPLE)\n",
    "   for(i, c) in enumerate(contours):\n",
    "       (x, y, w, h) = cv2.boundingRect(c)\n",
    "       contour_valid = (w >= min_contour_width) and (\n",
    "           h >= min_contour_height)\n",
    " \n",
    "       if not contour_valid:\n",
    "           continue\n",
    "       cv2.rectangle(frame1, (x-10, y-10), (x+w+10, y+h+10), (255, 0, 0), 2)\n",
    " \n",
    "       cv2.line(frame1, (0, line_height), (1200, line_height), (0, 255, 0), 2)\n",
    "       centrolid = get_centrolid(x, y, w, h)\n",
    "       matches.append(centrolid)\n",
    "       cv2.circle(frame1, centrolid, 5, (0, 255, 0), -1)\n",
    "       cx, cy = get_centrolid(x, y, w, h)\n",
    "       for (x, y) in matches:\n",
    "           if y < (line_height+offset) and y > (line_height-offset):\n",
    "               vehicles = vehicles +1\n",
    "               matches.remove((x, y))\n",
    " \n",
    "   cv2.putText(frame1, \"Total Vehicle Detected: \" + str(vehicles), (10, 90), cv2.FONT_HERSHEY_SIMPLEX, 1,\n",
    "               (0, 170, 0), 2)\n",
    " \n",
    " \n",
    " \n",
    "   cv2.imshow(\"Vehicle Detection\", frame1)\n",
    "   if cv2.waitKey(1) == 27:\n",
    "       break\n",
    "   frame1 = frame2\n",
    "   ret, frame2 = cap.read()\n",
    " \n",
    "cv2.destroyAllWindows()\n",
    "cap.release()"
   ]
  }
 ],
 "metadata": {
  "kernelspec": {
   "display_name": "Python 3 (ipykernel)",
   "language": "python",
   "name": "python3"
  },
  "language_info": {
   "codemirror_mode": {
    "name": "ipython",
    "version": 3
   },
   "file_extension": ".py",
   "mimetype": "text/x-python",
   "name": "python",
   "nbconvert_exporter": "python",
   "pygments_lexer": "ipython3",
   "version": "3.10.8"
  }
 },
 "nbformat": 4,
 "nbformat_minor": 5
}
